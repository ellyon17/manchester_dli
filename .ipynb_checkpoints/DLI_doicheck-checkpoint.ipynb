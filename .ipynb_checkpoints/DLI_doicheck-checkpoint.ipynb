{
 "cells": [
  {
   "cell_type": "code",
   "execution_count": null,
   "metadata": {
    "collapsed": true
   },
   "outputs": [],
   "source": [
    "import http.client\n",
    "import json\n",
    "import csv\n",
    "\n",
    "conn = http.client.HTTPSConnection(\"api-dliservice-prototype-dli.d4science.org\")\n",
    "\n",
    "headers = {\n",
    "    'cache-control': \"no-cache\",\n",
    "    'postman-token': \"ce00022e-da56-5ad7-8e5a-5d529044dacc\",\n",
    "    'Content-type':\"application/json\"\n",
    "    }\n",
    "\n",
    "doilist=[]\n",
    "tot_papers = 0\n",
    "#with open('man.csv', newline='') as csvfile:\n",
    "with open('uom-export-7.csv', newline='') as csvfile:\n",
    "    doireader = csv.reader(csvfile, delimiter=',')\n",
    "    for row in doireader:\n",
    "        doilist.append(row[1])\n",
    "        tot_papers = tot_papers+1\n",
    "    \n",
    "    \n",
    "call = \"\"    \n",
    "papers_w_data = 0\n",
    "print(\"Total number of papers = \"+str(tot_papers))\n",
    "\n",
    "for doi in doilist:\n",
    "    call = \"/v1/linksFromPid?pid=\"+doi\n",
    "    conn.request(\"GET\", call , headers=headers)\n",
    "    res = conn.getresponse()\n",
    "    data = res.read().decode()\n",
    "    jdata = json.loads(data)\n",
    "    if len(data)>3:\n",
    "        papers_w_data = papers_w_data+1\n",
    "        print(\"article: \"+doi+\" has datasets: \")\n",
    "    for d in jdata:\n",
    "        for id in d[\"target\"][\"identifiers\"]:\n",
    "            if id[\"schema\"] == \"doi\":\n",
    "                print(id[\"identifier\"])\n",
    "\n",
    "print(str(papers_w_data)+\" out of \"+str(tot_papers)+\" have data\")"
   ]
  },
  {
   "cell_type": "code",
   "execution_count": null,
   "metadata": {},
   "outputs": [],
   "source": []
  },
  {
   "cell_type": "code",
   "execution_count": null,
   "metadata": {
    "collapsed": true
   },
   "outputs": [],
   "source": []
  },
  {
   "cell_type": "code",
   "execution_count": null,
   "metadata": {
    "collapsed": true
   },
   "outputs": [],
   "source": []
  }
 ],
 "metadata": {
  "kernelspec": {
   "display_name": "Python 3",
   "language": "python",
   "name": "python3"
  },
  "language_info": {
   "codemirror_mode": {
    "name": "ipython",
    "version": 3
   },
   "file_extension": ".py",
   "mimetype": "text/x-python",
   "name": "python",
   "nbconvert_exporter": "python",
   "pygments_lexer": "ipython3",
   "version": "3.6.1"
  }
 },
 "nbformat": 4,
 "nbformat_minor": 2
}
